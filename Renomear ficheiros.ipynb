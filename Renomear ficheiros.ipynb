{
 "cells": [
  {
   "cell_type": "code",
   "execution_count": 3,
   "id": "027dc466",
   "metadata": {},
   "outputs": [],
   "source": [
    "#libraria\n",
    "import os\n",
    "\n",
    "#pasta onde estão os ficheiros a renomear\n",
    "os.chdir('C:/Users/pedro/Podcast/Telerural/Audio/Telerural/')\n",
    "\n",
    "#tratar uma-a-um\n",
    "i=1\n",
    "\n",
    "#dar indicação que para os ficheiros na pasta, trocar o nome fonte(source[src] para nome destino[dst], indicando este último)\n",
    "for file in os.listdir():\n",
    "    src=file\n",
    "    dst='Telerural_'+ str(i) + '.mp3'\n",
    "    os.rename(src, dst)\n",
    "    i+=1 "
   ]
  }
 ],
 "metadata": {
  "kernelspec": {
   "display_name": "Python 3 (ipykernel)",
   "language": "python",
   "name": "python3"
  },
  "language_info": {
   "codemirror_mode": {
    "name": "ipython",
    "version": 3
   },
   "file_extension": ".py",
   "mimetype": "text/x-python",
   "name": "python",
   "nbconvert_exporter": "python",
   "pygments_lexer": "ipython3",
   "version": "3.9.7"
  }
 },
 "nbformat": 4,
 "nbformat_minor": 5
}
